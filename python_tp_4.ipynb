{
  "nbformat": 4,
  "nbformat_minor": 0,
  "metadata": {
    "colab": {
      "provenance": [],
      "include_colab_link": true
    },
    "kernelspec": {
      "name": "python3",
      "display_name": "Python 3"
    },
    "language_info": {
      "name": "python"
    }
  },
  "cells": [
    {
      "cell_type": "markdown",
      "metadata": {
        "id": "view-in-github",
        "colab_type": "text"
      },
      "source": [
        "<a href=\"https://colab.research.google.com/github/Lindapazw/python_tp4_unsa/blob/main/python_tp_4.ipynb\" target=\"_parent\"><img src=\"https://colab.research.google.com/assets/colab-badge.svg\" alt=\"Open In Colab\"/></a>"
      ]
    },
    {
      "cell_type": "markdown",
      "source": [
        "![](https://i.postimg.cc/Y9N3tDSm/chrome-aqg5-Zj1ypk.png)"
      ],
      "metadata": {
        "id": "s3jjDme537SA"
      }
    },
    {
      "cell_type": "markdown",
      "source": [
        "##Temas: Operadores Aritmeticos, Operadores Relacionales, Operadores Logicos, Condiciones.\n"
      ],
      "metadata": {
        "id": "SeZL1FpndzIt"
      }
    },
    {
      "cell_type": "markdown",
      "source": [
        "##Ejercicio Nro 1\n",
        "Realizar un programa que permita ingresar un número, si el número es positivo mostrar un mensaje es positivo, en caso contrario mostrar un mensaje “EL NÚMERO ES NEGATIVO O CERO”"
      ],
      "metadata": {
        "id": "xP9K-71jZADE"
      }
    },
    {
      "cell_type": "code",
      "source": [
        "num = int(input(\"Elije un número: \"))\n",
        "\n",
        "if(num > 0):\n",
        "    print(f\"El numero elegido es positivo: {num}\")\n",
        "else:\n",
        "  print(\"error, elegir un numero positivo\")"
      ],
      "metadata": {
        "id": "J2amWTao4LPm",
        "colab": {
          "base_uri": "https://localhost:8080/"
        },
        "outputId": "a11c41d8-576e-43d2-c158-de2a74e189a1"
      },
      "execution_count": 5,
      "outputs": [
        {
          "output_type": "stream",
          "name": "stdout",
          "text": [
            "Elije un número: -10\n",
            "error, elegir un numero positivo\n"
          ]
        }
      ]
    },
    {
      "cell_type": "markdown",
      "source": [
        "##Ejercicio Nro 2\n",
        "\n",
        "Realiza un programa que lea 2 números por teclado y determine los siguientes aspectos (es suficiene con mostrar True o False):\n",
        "\n",
        "Si los dos números son iguales\n",
        "\n",
        "Si los dos números son diferentes\n",
        "\n",
        "Si el primero es mayor que el segundo\n",
        "\n",
        "Si el segundo es mayor o igual que el primero"
      ],
      "metadata": {
        "id": "gTAYyHuybbt0"
      }
    },
    {
      "cell_type": "code",
      "source": [
        "num1 = int(input(\"Elegir numero 1: \"))\n",
        "num2 = int(input(\"Elegir numero 2: \"))\n",
        "\n",
        "if(num1 == num2): \n",
        "  print(\"Los numeros son iguales\")\n",
        "elif(num1 != num2):\n",
        "  print(\"Los numeros son diferentes\")\n",
        "\n",
        "  if(num1 < num2):\n",
        "    print(f\"El numero 1 '{num1}' menor al numero 2 '{num2}'\")\n",
        "  elif(num1 > num2):\n",
        "    print(f\"El numero 1 '{num1}' mayor al numero 2 '{num2}'\")\n"
      ],
      "metadata": {
        "id": "8t77Qc024Lon",
        "colab": {
          "base_uri": "https://localhost:8080/"
        },
        "outputId": "ea1dc414-c768-44e3-9601-0b5f97046b77"
      },
      "execution_count": 8,
      "outputs": [
        {
          "output_type": "stream",
          "name": "stdout",
          "text": [
            "Elegir numero 1: 10\n",
            "Elegir numero 2: 5\n",
            "Los numeros son diferentes\n",
            "El numero 1 '10' mayor al numero 2 '5'\n"
          ]
        }
      ]
    },
    {
      "cell_type": "markdown",
      "source": [
        "##Ejercicio Nro 3\n",
        "Escribir un programa que almacene la cadena de caracteres contraseña en una variable, pregunte al usuarix por la contraseña e imprima por pantalla si la contraseña introducida por el usuarix coincide con la guardada en la variable sin tener en cuenta mayúsculas y minúsculas."
      ],
      "metadata": {
        "id": "kJBBCIYfQo_A"
      }
    },
    {
      "cell_type": "code",
      "source": [
        "contraseña = \"123asd\"\n",
        "\n",
        "contraseña_usuario = str.lower(input(\"Escribe la contraseña: \"))\n",
        "\n",
        "if(contraseña == contraseña_usuario):\n",
        "  print(\"La contraseña es correcta!\")\n",
        "elif(contraseña != contraseña_usuario):\n",
        "  print(\"La contraseña no es correcta!\")"
      ],
      "metadata": {
        "id": "1POng1U64MEo",
        "colab": {
          "base_uri": "https://localhost:8080/"
        },
        "outputId": "1baa1632-c996-440d-fabe-9c3c333714a0"
      },
      "execution_count": 12,
      "outputs": [
        {
          "output_type": "stream",
          "name": "stdout",
          "text": [
            "Escribe la contraseña: 123ASD\n",
            "La contraseña es correcta!\n"
          ]
        }
      ]
    },
    {
      "cell_type": "markdown",
      "source": [
        "##Ejercicio Nro 4\n",
        "\n",
        "Realizar un programa donde se ingrese un caracter, determinar si la letra ingresada es una vocal. Por ejemplo, si ingresa es ‘a’ o ‘A’ mostrar un mensaje “VOCAL A”. En caso de que el carácter ingresado no sea un vocal mostrar un mensaje de error a su elección."
      ],
      "metadata": {
        "id": "ZTG5zGkcabky"
      }
    },
    {
      "cell_type": "code",
      "source": [],
      "metadata": {
        "id": "XAi9sA_X4Max"
      },
      "execution_count": null,
      "outputs": []
    },
    {
      "cell_type": "markdown",
      "source": [
        "## Ejercicio Nro 5\n",
        "Realizar un programa que solicite dos números, calcular la multiplicación, suma, resta y división y muestre el resultado por la consola."
      ],
      "metadata": {
        "id": "urhTPzhucouU"
      }
    },
    {
      "cell_type": "code",
      "source": [],
      "metadata": {
        "id": "13rk2E_S4MxM"
      },
      "execution_count": null,
      "outputs": []
    },
    {
      "cell_type": "markdown",
      "source": [
        "##Ejercicio Nro 6\n",
        "Realizar un programa que permita ingresar un número en metros y transformarlo a km y en cm\n",
        "\n",
        "![image.png](data:image/png;base64,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)"
      ],
      "metadata": {
        "id": "sLIxjsyQc1vl"
      }
    },
    {
      "cell_type": "code",
      "source": [],
      "metadata": {
        "id": "3ZTig9Eb4N0A"
      },
      "execution_count": null,
      "outputs": []
    },
    {
      "cell_type": "markdown",
      "source": [
        "##Ejercicio Nro 7\n",
        "Realizar un programa que permita ingresar un monto de una compra y un número de porcentaje que es un descuento, calcular cual es el valor del descuento y el monto total a pagar, mostrar ambos por consola. Por ejemplo, si se ingresa 100 y un porcentaje 25, el resultado del descuento es 25 y el total es 75"
      ],
      "metadata": {
        "id": "wu-TqHCrdVT6"
      }
    },
    {
      "cell_type": "code",
      "source": [],
      "metadata": {
        "id": "UvuR3Ci14Ork"
      },
      "execution_count": null,
      "outputs": []
    },
    {
      "cell_type": "markdown",
      "source": [
        "##Ejercicio Nro 8\n",
        "Realizar un programa que permita calcular el perímetro de un cuadrado, el valor de “a” es ingresado por el usuario. Mostrar el resultado por pantalla\n",
        "\n",
        "![image.png](data:image/png;base64,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)"
      ],
      "metadata": {
        "id": "5BnRjCYwdhjb"
      }
    },
    {
      "cell_type": "code",
      "source": [],
      "metadata": {
        "id": "gtgM_dDz4P_3"
      },
      "execution_count": null,
      "outputs": []
    },
    {
      "cell_type": "markdown",
      "source": [
        "##Ejercicio Nro 9\n",
        "Realizar un programa que permita calcular el área de un triángulo, el valor de b y h son ingresados por el usuario. Mostrar el resultado por pantalla. por el usuario. Mostrar el resultado por pantalla.\n",
        "\n",
        "![image.png](data:image/png;base64,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)"
      ],
      "metadata": {
        "id": "AsR94kCZdp7d"
      }
    },
    {
      "cell_type": "code",
      "source": [],
      "metadata": {
        "id": "EVLEthLH4QV2"
      },
      "execution_count": null,
      "outputs": []
    },
    {
      "cell_type": "markdown",
      "source": [
        "##Ejercicio Nro 10\n",
        "\n",
        "Escribir un programa que muestre por pantalla el resultado de la siguiente operación aritmética \n",
        "$(3+2/2*5)^{2}$"
      ],
      "metadata": {
        "id": "FvWLoPLSeMDj"
      }
    },
    {
      "cell_type": "code",
      "source": [],
      "metadata": {
        "id": "e01S9IbS4QrH"
      },
      "execution_count": null,
      "outputs": []
    },
    {
      "cell_type": "markdown",
      "source": [
        "##Ejercicio Nro 11\n",
        "Escribir un programa que pregunte al usuarix por el número de horas trabajadas y el costo por hora. Después debe mostrar por pantalla el pago que le corresponde."
      ],
      "metadata": {
        "id": "0hW69VvoewjU"
      }
    },
    {
      "cell_type": "code",
      "source": [],
      "metadata": {
        "id": "nfzN5oCB4SkP"
      },
      "execution_count": null,
      "outputs": []
    },
    {
      "cell_type": "markdown",
      "source": [
        "###Ejercicio Nro 12\n",
        "Escribir un programa que pida al usuarix su peso (en kg) y estatura (en metros), calcule el índice de masa corporal y lo almacene en una variable, y muestre por pantalla la frase Tu índice de masa corporal es **imc** donde **imc** es el índice de masa corporal calculado redondeado con dos decimales."
      ],
      "metadata": {
        "id": "ldBOOkxffCXa"
      }
    },
    {
      "cell_type": "code",
      "source": [],
      "metadata": {
        "id": "KdHvgkUq4TCw"
      },
      "execution_count": null,
      "outputs": []
    },
    {
      "cell_type": "markdown",
      "source": [
        "## Ejercicio Nro 13\n",
        "\n",
        "Escribí un programa que solicite al usuarix un número y le reste el 15%, almacenando todo en una única variable. A continuación, mostrar el resultado final en pantalla."
      ],
      "metadata": {
        "id": "fE-qECgTgzcx"
      }
    },
    {
      "cell_type": "code",
      "source": [],
      "metadata": {
        "id": "Q8aWHfuj4TqI"
      },
      "execution_count": null,
      "outputs": []
    },
    {
      "cell_type": "markdown",
      "source": [
        "## Ejercicio Nro 14\n",
        "Desarrolle un algoritmo que determine la cantidad de dinero que una persona ganaría después de haber trabajado un número determinado de días en un trabajo que paga por hora.\n",
        "\n",
        "1. Preguntar cuánto gana por hora.\n",
        "2. Preguntar cuántas horas trabajó en total.\n",
        "3. Si trabajó más de 40 horas en la semana, entonces se le paga 1.5 veces su salario por hora por todas las horas extras trabajadas.\n",
        "4. Sumar el salario normal con el salario extra.\n",
        "5. Mostrar el salario total."
      ],
      "metadata": {
        "id": "6DvT09Bv6EhE"
      }
    },
    {
      "cell_type": "code",
      "source": [],
      "metadata": {
        "id": "lw3_1neA6IYQ"
      },
      "execution_count": null,
      "outputs": []
    },
    {
      "cell_type": "markdown",
      "source": [
        "\n",
        "## Ejercicio Nro 15\n",
        "\n",
        "Desarrolle un algoritmo que trabajará con un número. Necesitamos saber si es: \n",
        "- signo:\n",
        "    - positivo\n",
        "    - negativo\n",
        "    - cero\n",
        "- paridad:\n",
        "    - par\n",
        "    - impar\n",
        "- múltiplo de 3:\n",
        "    - es o no múltiplo de 3\n",
        "\n",
        "Toda esta información debe ser guardada en una sola variable tipo string.\n",
        "Ejemplo: \n",
        "Entrada: 9\n",
        "Salida: El número 9 es positivo e impar, y es múltiplo de 3\n",
        "Entrada: -8\n",
        "Salida: El número -8 es negativo y par, y no es múltiplo de 3\n",
        "\n",
        "\n"
      ],
      "metadata": {
        "id": "AYw_Flze6mdh"
      }
    },
    {
      "cell_type": "code",
      "source": [],
      "metadata": {
        "id": "DI64haVP6m9b"
      },
      "execution_count": null,
      "outputs": []
    },
    {
      "cell_type": "markdown",
      "source": [
        "## Ejercicio Nro 16\n",
        "Escribe un programa en Python que solicite al usuarix su edad y su salario anual. El programa debe evaluar si el usuarix es elegible para un aumento de sueldo y, en caso afirmativo, calcular la cantidad del aumento y mostrarla en la pantalla.\n",
        "\n",
        "El programa debe evaluar los siguientes criterios para determinar si el usuarix es elegible para un aumento de sueldo:\n",
        "\n",
        "- Si el usuarix tiene al menos 30 años y su salario anual es menor o igual a 50.000 pesos, tiene derecho a un aumento del 10%.\n",
        "- Si el usuarix tiene al menos 25 años y su salario anual es menor o igual a 40.000 pesos, tiene derecho a un aumento del 5%.\n",
        "- Si el usuarix tiene al menos 20 años y su salario anual es menor o igual a 30.000 pesos, tiene derecho a un aumento del 2%.\n",
        "\n",
        "Si el usuarix no cumple con ninguno de los criterios anteriores, el programa debe indicar que no es elegible para un aumento de sueldo en este momento. El programa debe utilizar la estructura if/else y la función fstring para crear una cadena de texto personalizada que indique si el usuarix es elegible para un aumento de sueldo y, en caso afirmativo, la cantidad del aumento.\n",
        "\n",
        "Muestre el resultado con 2 dígitos."
      ],
      "metadata": {
        "id": "uZlQTzEw-JWJ"
      }
    },
    {
      "cell_type": "code",
      "source": [],
      "metadata": {
        "id": "S9h7X5Rx_YTk"
      },
      "execution_count": null,
      "outputs": []
    },
    {
      "cell_type": "markdown",
      "source": [
        "\n",
        "## Ejercicio Nro 17\n",
        "Escribe un programa que sirva para reconocer notas musicales. Dada la notación anglosajona C, D, E, F, G, A, B mostrar la notación latina de la nota ingresada. Estas son: do, re, mi, fa, sol, la, si. En caso de que no se ingrese ninguna de estas, mostrar un error que no se reconoció la nota.\n"
      ],
      "metadata": {
        "id": "iPsoNbWNAVb1"
      }
    },
    {
      "cell_type": "code",
      "source": [],
      "metadata": {
        "id": "EHzV_CG_AV88"
      },
      "execution_count": null,
      "outputs": []
    },
    {
      "cell_type": "markdown",
      "source": [
        "## Ejercicio Nro 17 bis\n",
        "\n",
        "Crea un algoritmo que, dadas 3 notas musicales, identifique el acorde que acaba de crearse. Un acorde es un conjunto de notas que constituye una unidad armónica. El programa debe reconocer los siguientes acordes:\n",
        "\n",
        "| Nota 1 | Nota 2 | Nota 3 | Acorde |\n",
        "| --- | --- | --- | ---- |\n",
        "| C | E | F | Do mayor\n",
        "| D | F | A | Re menor\n",
        "| E | G | B | Mi menor\n",
        "| F | A | C | Fa mayor\n",
        "| G | B | D | Sol mayor\n",
        "| A | C | E | La menor\n",
        "| B | D | F | Si disminuido\n",
        "\n",
        "Ejemplo:\n",
        "\n",
        "Entrada: E, G, B\n",
        "\n",
        "Salida: Las notas E, G, y B forman el acorde Mi menor.\n",
        "\n",
        "Entrada: A, C, D\n",
        "\n",
        "Salida: Las notas A, C, y D no forman un acorde reconocido por el programa."
      ],
      "metadata": {
        "id": "jdR29k3zBpzn"
      }
    },
    {
      "cell_type": "code",
      "source": [],
      "metadata": {
        "id": "rY6aQGpgBqLY"
      },
      "execution_count": null,
      "outputs": []
    },
    {
      "cell_type": "markdown",
      "source": [
        "## Ejercicio Nro 18\n",
        "Crea un ejercicio que, generado un número al azar, el programa realice distintas operaciones según el rango en donde se encuentra el número. Estos son:\n",
        "\n",
        "| Rango | Operación a Realizar |\n",
        "| --- | --- |\n",
        "| 0 a 20 | Mostrar el cuadrado del número |\n",
        "| 21 a 40 | Mostrar la raíz cuadrada del número |\n",
        "| 41 a 60 | Mostrar si el número es par o impar |\n",
        "| 61 a 80 | Intercambiar los dígitos del número |\n",
        "| 81 a 99 | Restar 45 al número. Luego sumar dígitos y mostrar el resultado en texto si el resultado es menor o igual que diez, si no solo el resultado numérico |\n",
        "\n",
        "Ejemplos:\n",
        "\n",
        "Entrada: 17\n",
        "Salida: El cuadrado de 17 es 289.\n",
        "\n",
        "Entrada: 36\n",
        "Salida: La raíz cuadrada de 36 es 6.00.\n",
        "\n",
        "Entrada: 49\n",
        "Salida: El número 49 es impar.\n",
        "\n",
        "Entrada: 69\n",
        "Salida: El número cambió sus dígitos a 96.\n",
        "\n",
        "Entrada: 88\n",
        "Salida: Luego de restar 45 a 88 obtuvimos 43 y sumando sus dígitos tenemos siete.\n",
        "\n",
        "**Nota**: Utilice solo operaciones de división, resto, y concatenación para manejar los dígitos del número. No se debe usar ciclos en este ejercicio.\n"
      ],
      "metadata": {
        "id": "ZNlnuVg-EF6v"
      }
    },
    {
      "cell_type": "code",
      "source": [],
      "metadata": {
        "id": "VBOG7g5VTGBT"
      },
      "execution_count": null,
      "outputs": []
    }
  ]
}